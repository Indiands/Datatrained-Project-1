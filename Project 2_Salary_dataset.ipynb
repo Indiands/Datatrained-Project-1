{
 "cells": [
  {
   "cell_type": "code",
   "execution_count": 1,
   "id": "4df48465",
   "metadata": {},
   "outputs": [],
   "source": [
    "# importing libraries:\n",
    "import numpy as np\n",
    "import pandas as pd\n",
    "import seaborn as sns\n",
    "from sklearn.model_selection import train_test_split\n",
    "from sklearn.naive_bayes import MultinomialNB\n",
    "from sklearn.svm import SVC\n",
    "from sklearn.tree import DecisionTreeClassifier\n",
    "from sklearn.neighbors import KNeighborsClassifier\n",
    "from sklearn.metrics import accuracy_score, confusion_matrix, classification_report\n",
    "import matplotlib.pyplot as plt\n",
    "import warnings\n",
    "warnings.filterwarnings('ignore')"
   ]
  },
  {
   "cell_type": "markdown",
   "id": "d4d6d34e",
   "metadata": {},
   "source": [
    "Importing essential librarues."
   ]
  },
  {
   "cell_type": "code",
   "execution_count": 2,
   "id": "be88cbe9",
   "metadata": {},
   "outputs": [
    {
     "data": {
      "text/html": [
       "<div>\n",
       "<style scoped>\n",
       "    .dataframe tbody tr th:only-of-type {\n",
       "        vertical-align: middle;\n",
       "    }\n",
       "\n",
       "    .dataframe tbody tr th {\n",
       "        vertical-align: top;\n",
       "    }\n",
       "\n",
       "    .dataframe thead th {\n",
       "        text-align: right;\n",
       "    }\n",
       "</style>\n",
       "<table border=\"1\" class=\"dataframe\">\n",
       "  <thead>\n",
       "    <tr style=\"text-align: right;\">\n",
       "      <th></th>\n",
       "      <th>Rank</th>\n",
       "      <th>Discipline</th>\n",
       "      <th>Year_Since_PHD</th>\n",
       "      <th>Year_Service</th>\n",
       "      <th>Sex</th>\n",
       "      <th>Salary</th>\n",
       "    </tr>\n",
       "  </thead>\n",
       "  <tbody>\n",
       "    <tr>\n",
       "      <th>0</th>\n",
       "      <td>Prof</td>\n",
       "      <td>B</td>\n",
       "      <td>19</td>\n",
       "      <td>18</td>\n",
       "      <td>Male</td>\n",
       "      <td>139750</td>\n",
       "    </tr>\n",
       "    <tr>\n",
       "      <th>1</th>\n",
       "      <td>Prof</td>\n",
       "      <td>B</td>\n",
       "      <td>20</td>\n",
       "      <td>16</td>\n",
       "      <td>Male</td>\n",
       "      <td>173200</td>\n",
       "    </tr>\n",
       "    <tr>\n",
       "      <th>2</th>\n",
       "      <td>AsstProf</td>\n",
       "      <td>B</td>\n",
       "      <td>4</td>\n",
       "      <td>3</td>\n",
       "      <td>Male</td>\n",
       "      <td>79750</td>\n",
       "    </tr>\n",
       "    <tr>\n",
       "      <th>3</th>\n",
       "      <td>Prof</td>\n",
       "      <td>B</td>\n",
       "      <td>45</td>\n",
       "      <td>39</td>\n",
       "      <td>Male</td>\n",
       "      <td>115000</td>\n",
       "    </tr>\n",
       "    <tr>\n",
       "      <th>4</th>\n",
       "      <td>Prof</td>\n",
       "      <td>B</td>\n",
       "      <td>40</td>\n",
       "      <td>41</td>\n",
       "      <td>Male</td>\n",
       "      <td>141500</td>\n",
       "    </tr>\n",
       "    <tr>\n",
       "      <th>...</th>\n",
       "      <td>...</td>\n",
       "      <td>...</td>\n",
       "      <td>...</td>\n",
       "      <td>...</td>\n",
       "      <td>...</td>\n",
       "      <td>...</td>\n",
       "    </tr>\n",
       "    <tr>\n",
       "      <th>392</th>\n",
       "      <td>Prof</td>\n",
       "      <td>A</td>\n",
       "      <td>33</td>\n",
       "      <td>30</td>\n",
       "      <td>Male</td>\n",
       "      <td>103106</td>\n",
       "    </tr>\n",
       "    <tr>\n",
       "      <th>393</th>\n",
       "      <td>Prof</td>\n",
       "      <td>A</td>\n",
       "      <td>31</td>\n",
       "      <td>19</td>\n",
       "      <td>Male</td>\n",
       "      <td>150564</td>\n",
       "    </tr>\n",
       "    <tr>\n",
       "      <th>394</th>\n",
       "      <td>Prof</td>\n",
       "      <td>A</td>\n",
       "      <td>42</td>\n",
       "      <td>25</td>\n",
       "      <td>Male</td>\n",
       "      <td>101738</td>\n",
       "    </tr>\n",
       "    <tr>\n",
       "      <th>395</th>\n",
       "      <td>Prof</td>\n",
       "      <td>A</td>\n",
       "      <td>25</td>\n",
       "      <td>15</td>\n",
       "      <td>Male</td>\n",
       "      <td>95329</td>\n",
       "    </tr>\n",
       "    <tr>\n",
       "      <th>396</th>\n",
       "      <td>AsstProf</td>\n",
       "      <td>A</td>\n",
       "      <td>8</td>\n",
       "      <td>4</td>\n",
       "      <td>Male</td>\n",
       "      <td>81035</td>\n",
       "    </tr>\n",
       "  </tbody>\n",
       "</table>\n",
       "<p>397 rows × 6 columns</p>\n",
       "</div>"
      ],
      "text/plain": [
       "         Rank Discipline  Year_Since_PHD  Year_Service   Sex  Salary\n",
       "0        Prof          B              19            18  Male  139750\n",
       "1        Prof          B              20            16  Male  173200\n",
       "2    AsstProf          B               4             3  Male   79750\n",
       "3        Prof          B              45            39  Male  115000\n",
       "4        Prof          B              40            41  Male  141500\n",
       "..        ...        ...             ...           ...   ...     ...\n",
       "392      Prof          A              33            30  Male  103106\n",
       "393      Prof          A              31            19  Male  150564\n",
       "394      Prof          A              42            25  Male  101738\n",
       "395      Prof          A              25            15  Male   95329\n",
       "396  AsstProf          A               8             4  Male   81035\n",
       "\n",
       "[397 rows x 6 columns]"
      ]
     },
     "execution_count": 2,
     "metadata": {},
     "output_type": "execute_result"
    }
   ],
   "source": [
    "# Load Dataset:\n",
    "header = ['Rank', 'Discipline', 'Year_Since_PHD', 'Year_Service', 'Sex', 'Salary']\n",
    "df = pd.read_csv('https://raw.githubusercontent.com/dsrscientist/dataset3/main/Salaries.csv',\n",
    "                header = None,\n",
    "                skiprows = 1,\n",
    "                names = header)\n",
    "df"
   ]
  },
  {
   "cell_type": "markdown",
   "id": "508c8378",
   "metadata": {},
   "source": [
    "Loading salary data from github and rename it's column name."
   ]
  },
  {
   "cell_type": "code",
   "execution_count": 3,
   "id": "31a26365",
   "metadata": {},
   "outputs": [
    {
     "data": {
      "text/plain": [
       "(397, 6)"
      ]
     },
     "execution_count": 3,
     "metadata": {},
     "output_type": "execute_result"
    }
   ],
   "source": [
    "df.shape"
   ]
  },
  {
   "cell_type": "markdown",
   "id": "85e6ecc6",
   "metadata": {},
   "source": [
    "Checking data shape."
   ]
  },
  {
   "cell_type": "markdown",
   "id": "090577fc",
   "metadata": {},
   "source": [
    "# EDA Begins"
   ]
  },
  {
   "cell_type": "markdown",
   "id": "01630969",
   "metadata": {},
   "source": [
    "# Discover and visualization of data"
   ]
  },
  {
   "cell_type": "code",
   "execution_count": 4,
   "id": "9ac53ae8",
   "metadata": {},
   "outputs": [
    {
     "data": {
      "text/plain": [
       "Index(['Rank', 'Discipline', 'Year_Since_PHD', 'Year_Service', 'Sex',\n",
       "       'Salary'],\n",
       "      dtype='object')"
      ]
     },
     "execution_count": 4,
     "metadata": {},
     "output_type": "execute_result"
    }
   ],
   "source": [
    "df.columns"
   ]
  },
  {
   "cell_type": "markdown",
   "id": "93b7092b",
   "metadata": {},
   "source": [
    "Checking columns name."
   ]
  },
  {
   "cell_type": "code",
   "execution_count": 5,
   "id": "50fd8a65",
   "metadata": {},
   "outputs": [
    {
     "name": "stdout",
     "output_type": "stream",
     "text": [
      "<class 'pandas.core.frame.DataFrame'>\n",
      "RangeIndex: 397 entries, 0 to 396\n",
      "Data columns (total 6 columns):\n",
      " #   Column          Non-Null Count  Dtype \n",
      "---  ------          --------------  ----- \n",
      " 0   Rank            397 non-null    object\n",
      " 1   Discipline      397 non-null    object\n",
      " 2   Year_Since_PHD  397 non-null    int64 \n",
      " 3   Year_Service    397 non-null    int64 \n",
      " 4   Sex             397 non-null    object\n",
      " 5   Salary          397 non-null    int64 \n",
      "dtypes: int64(3), object(3)\n",
      "memory usage: 18.7+ KB\n"
     ]
    }
   ],
   "source": [
    "df.info()"
   ]
  },
  {
   "cell_type": "markdown",
   "id": "b780b236",
   "metadata": {},
   "source": [
    "We find data type and it's null values."
   ]
  },
  {
   "cell_type": "code",
   "execution_count": 6,
   "id": "ae5fb2c3",
   "metadata": {},
   "outputs": [
    {
     "data": {
      "text/plain": [
       "<bound method DataFrame.count of          Rank Discipline  Year_Since_PHD  Year_Service   Sex  Salary\n",
       "0        Prof          B              19            18  Male  139750\n",
       "1        Prof          B              20            16  Male  173200\n",
       "2    AsstProf          B               4             3  Male   79750\n",
       "3        Prof          B              45            39  Male  115000\n",
       "4        Prof          B              40            41  Male  141500\n",
       "..        ...        ...             ...           ...   ...     ...\n",
       "392      Prof          A              33            30  Male  103106\n",
       "393      Prof          A              31            19  Male  150564\n",
       "394      Prof          A              42            25  Male  101738\n",
       "395      Prof          A              25            15  Male   95329\n",
       "396  AsstProf          A               8             4  Male   81035\n",
       "\n",
       "[397 rows x 6 columns]>"
      ]
     },
     "execution_count": 6,
     "metadata": {},
     "output_type": "execute_result"
    }
   ],
   "source": [
    "df.count"
   ]
  },
  {
   "cell_type": "markdown",
   "id": "137cf859",
   "metadata": {},
   "source": [
    "Finding count of data."
   ]
  },
  {
   "cell_type": "code",
   "execution_count": 7,
   "id": "d7e6540b",
   "metadata": {},
   "outputs": [
    {
     "data": {
      "text/html": [
       "<div>\n",
       "<style scoped>\n",
       "    .dataframe tbody tr th:only-of-type {\n",
       "        vertical-align: middle;\n",
       "    }\n",
       "\n",
       "    .dataframe tbody tr th {\n",
       "        vertical-align: top;\n",
       "    }\n",
       "\n",
       "    .dataframe thead th {\n",
       "        text-align: right;\n",
       "    }\n",
       "</style>\n",
       "<table border=\"1\" class=\"dataframe\">\n",
       "  <thead>\n",
       "    <tr style=\"text-align: right;\">\n",
       "      <th></th>\n",
       "      <th>Year_Since_PHD</th>\n",
       "      <th>Year_Service</th>\n",
       "      <th>Salary</th>\n",
       "    </tr>\n",
       "  </thead>\n",
       "  <tbody>\n",
       "    <tr>\n",
       "      <th>count</th>\n",
       "      <td>397.000000</td>\n",
       "      <td>397.000000</td>\n",
       "      <td>397.000000</td>\n",
       "    </tr>\n",
       "    <tr>\n",
       "      <th>mean</th>\n",
       "      <td>22.314861</td>\n",
       "      <td>17.614610</td>\n",
       "      <td>113706.458438</td>\n",
       "    </tr>\n",
       "    <tr>\n",
       "      <th>std</th>\n",
       "      <td>12.887003</td>\n",
       "      <td>13.006024</td>\n",
       "      <td>30289.038695</td>\n",
       "    </tr>\n",
       "    <tr>\n",
       "      <th>min</th>\n",
       "      <td>1.000000</td>\n",
       "      <td>0.000000</td>\n",
       "      <td>57800.000000</td>\n",
       "    </tr>\n",
       "    <tr>\n",
       "      <th>25%</th>\n",
       "      <td>12.000000</td>\n",
       "      <td>7.000000</td>\n",
       "      <td>91000.000000</td>\n",
       "    </tr>\n",
       "    <tr>\n",
       "      <th>50%</th>\n",
       "      <td>21.000000</td>\n",
       "      <td>16.000000</td>\n",
       "      <td>107300.000000</td>\n",
       "    </tr>\n",
       "    <tr>\n",
       "      <th>75%</th>\n",
       "      <td>32.000000</td>\n",
       "      <td>27.000000</td>\n",
       "      <td>134185.000000</td>\n",
       "    </tr>\n",
       "    <tr>\n",
       "      <th>max</th>\n",
       "      <td>56.000000</td>\n",
       "      <td>60.000000</td>\n",
       "      <td>231545.000000</td>\n",
       "    </tr>\n",
       "  </tbody>\n",
       "</table>\n",
       "</div>"
      ],
      "text/plain": [
       "       Year_Since_PHD  Year_Service         Salary\n",
       "count      397.000000    397.000000     397.000000\n",
       "mean        22.314861     17.614610  113706.458438\n",
       "std         12.887003     13.006024   30289.038695\n",
       "min          1.000000      0.000000   57800.000000\n",
       "25%         12.000000      7.000000   91000.000000\n",
       "50%         21.000000     16.000000  107300.000000\n",
       "75%         32.000000     27.000000  134185.000000\n",
       "max         56.000000     60.000000  231545.000000"
      ]
     },
     "execution_count": 7,
     "metadata": {},
     "output_type": "execute_result"
    }
   ],
   "source": [
    "df.describe()"
   ]
  },
  {
   "cell_type": "markdown",
   "id": "580b147c",
   "metadata": {},
   "source": [
    "We find minimum, maximum, mean, standard mean, 1st,2nd and 3rd quartiles through describe method."
   ]
  },
  {
   "cell_type": "code",
   "execution_count": 8,
   "id": "13ec423b",
   "metadata": {},
   "outputs": [
    {
     "data": {
      "image/png": "[encoded data removed]",
      "text/plain": [
       "<Figure size 432x288 with 1 Axes>"
      ]
     },
     "metadata": {
      "needs_background": "light"
     },
     "output_type": "display_data"
    }
   ],
   "source": [
    "plt.scatter(x = df.Year_Since_PHD, y = df.Salary )\n",
    "plt.xlabel('Year Since PHD Passed')\n",
    "plt.ylabel('Salary')\n",
    "plt.title('Year Vs Salary')\n",
    "plt.show()"
   ]
  },
  {
   "cell_type": "markdown",
   "id": "63395923",
   "metadata": {},
   "source": [
    "Here we see the graph representation of salary and PHD passed duration. PHD affect the salary in positive way."
   ]
  },
  {
   "cell_type": "code",
   "execution_count": 9,
   "id": "ca481f27",
   "metadata": {},
   "outputs": [
    {
     "data": {
      "image/png": "[encoded data removed]",
      "text/plain": [
       "<Figure size 432x288 with 1 Axes>"
      ]
     },
     "metadata": {
      "needs_background": "light"
     },
     "output_type": "display_data"
    }
   ],
   "source": [
    "plt.scatter(x = df.Year_Service, y = df.Salary )\n",
    "plt.xlabel('Experience')\n",
    "plt.ylabel('Salary')\n",
    "plt.title('Experience Vs Salary')\n",
    "plt.show()"
   ]
  },
  {
   "cell_type": "markdown",
   "id": "7ab9b004",
   "metadata": {},
   "source": [
    "Here we see the graph representation of salary and experience. Experience also affecting the salary in positive way."
   ]
  },
  {
   "cell_type": "code",
   "execution_count": 10,
   "id": "1eb555f3",
   "metadata": {},
   "outputs": [
    {
     "data": {
      "text/plain": [
       "<AxesSubplot:xlabel='Year_Service', ylabel='Salary'>"
      ]
     },
     "execution_count": 10,
     "metadata": {},
     "output_type": "execute_result"
    },
    {
     "data": {
      "image/png": "[encoded data removed]",
      "text/plain": [
       "<Figure size 432x288 with 1 Axes>"
      ]
     },
     "metadata": {
      "needs_background": "light"
     },
     "output_type": "display_data"
    }
   ],
   "source": [
    "sns.scatterplot(x = 'Year_Service' , y = 'Salary' , data = df)"
   ]
  },
  {
   "cell_type": "code",
   "execution_count": 11,
   "id": "6492b3e2",
   "metadata": {},
   "outputs": [
    {
     "data": {
      "text/plain": [
       "<seaborn.axisgrid.PairGrid at 0x1addaef1f10>"
      ]
     },
     "execution_count": 11,
     "metadata": {},
     "output_type": "execute_result"
    },
    {
     "data": {
      "image/png": "[encoded data removed]",
      "text/plain": [
       "<Figure size 540x540 with 12 Axes>"
      ]
     },
     "metadata": {
      "needs_background": "light"
     },
     "output_type": "display_data"
    }
   ],
   "source": [
    "sns.pairplot(df)"
   ]
  },
  {
   "cell_type": "markdown",
   "id": "2a724d34",
   "metadata": {},
   "source": [
    "We see pairplot also show positive relation."
   ]
  },
  {
   "cell_type": "code",
   "execution_count": 12,
   "id": "ca5e7e8c",
   "metadata": {},
   "outputs": [
    {
     "data": {
      "text/plain": [
       "Rank              0\n",
       "Discipline        0\n",
       "Year_Since_PHD    0\n",
       "Year_Service      0\n",
       "Sex               0\n",
       "Salary            0\n",
       "dtype: int64"
      ]
     },
     "execution_count": 12,
     "metadata": {},
     "output_type": "execute_result"
    }
   ],
   "source": [
    "df.isnull().sum()"
   ]
  },
  {
   "cell_type": "markdown",
   "id": "7446fc0f",
   "metadata": {},
   "source": [
    "There is no any null values in side the data."
   ]
  },
  {
   "cell_type": "code",
   "execution_count": 13,
   "id": "99e68d40",
   "metadata": {},
   "outputs": [
    {
     "data": {
      "text/html": [
       "<div>\n",
       "<style scoped>\n",
       "    .dataframe tbody tr th:only-of-type {\n",
       "        vertical-align: middle;\n",
       "    }\n",
       "\n",
       "    .dataframe tbody tr th {\n",
       "        vertical-align: top;\n",
       "    }\n",
       "\n",
       "    .dataframe thead th {\n",
       "        text-align: right;\n",
       "    }\n",
       "</style>\n",
       "<table border=\"1\" class=\"dataframe\">\n",
       "  <thead>\n",
       "    <tr style=\"text-align: right;\">\n",
       "      <th></th>\n",
       "      <th>Year_Since_PHD</th>\n",
       "      <th>Year_Service</th>\n",
       "      <th>Salary</th>\n",
       "    </tr>\n",
       "  </thead>\n",
       "  <tbody>\n",
       "    <tr>\n",
       "      <th>Year_Since_PHD</th>\n",
       "      <td>1.000000</td>\n",
       "      <td>0.909649</td>\n",
       "      <td>0.419231</td>\n",
       "    </tr>\n",
       "    <tr>\n",
       "      <th>Year_Service</th>\n",
       "      <td>0.909649</td>\n",
       "      <td>1.000000</td>\n",
       "      <td>0.334745</td>\n",
       "    </tr>\n",
       "    <tr>\n",
       "      <th>Salary</th>\n",
       "      <td>0.419231</td>\n",
       "      <td>0.334745</td>\n",
       "      <td>1.000000</td>\n",
       "    </tr>\n",
       "  </tbody>\n",
       "</table>\n",
       "</div>"
      ],
      "text/plain": [
       "                Year_Since_PHD  Year_Service    Salary\n",
       "Year_Since_PHD        1.000000      0.909649  0.419231\n",
       "Year_Service          0.909649      1.000000  0.334745\n",
       "Salary                0.419231      0.334745  1.000000"
      ]
     },
     "execution_count": 13,
     "metadata": {},
     "output_type": "execute_result"
    }
   ],
   "source": [
    "df.corr()"
   ]
  },
  {
   "cell_type": "markdown",
   "id": "49764c4d",
   "metadata": {},
   "source": [
    "We see the correlation values between columns. "
   ]
  },
  {
   "cell_type": "code",
   "execution_count": 14,
   "id": "038af23d",
   "metadata": {},
   "outputs": [
    {
     "data": {
      "text/plain": [
       "<AxesSubplot:>"
      ]
     },
     "execution_count": 14,
     "metadata": {},
     "output_type": "execute_result"
    },
    {
     "data": {
      "image/png": "[encoded data removed]",
      "text/plain": [
       "<Figure size 432x288 with 2 Axes>"
      ]
     },
     "metadata": {
      "needs_background": "light"
     },
     "output_type": "display_data"
    }
   ],
   "source": [
    "sns.heatmap(df.corr(), annot = True)"
   ]
  },
  {
   "cell_type": "markdown",
   "id": "6909ab6e",
   "metadata": {},
   "source": [
    "We represet correlation value through heatmap."
   ]
  },
  {
   "cell_type": "code",
   "execution_count": 15,
   "id": "e12c7a28",
   "metadata": {},
   "outputs": [
    {
     "data": {
      "text/plain": [
       "Year_Service      0.334745\n",
       "Year_Since_PHD    0.419231\n",
       "Salary            1.000000\n",
       "Name: Salary, dtype: float64"
      ]
     },
     "execution_count": 15,
     "metadata": {},
     "output_type": "execute_result"
    }
   ],
   "source": [
    "df.corr()['Salary'].sort_values()"
   ]
  },
  {
   "cell_type": "markdown",
   "id": "9e1b7908",
   "metadata": {},
   "source": [
    "We see correlation of salary to rest of columns."
   ]
  },
  {
   "cell_type": "markdown",
   "id": "7c13b381",
   "metadata": {},
   "source": [
    "# Label Encoding"
   ]
  },
  {
   "cell_type": "code",
   "execution_count": 16,
   "id": "9a332306",
   "metadata": {},
   "outputs": [
    {
     "data": {
      "text/plain": [
       "2    266\n",
       "1     67\n",
       "0     64\n",
       "Name: Rank, dtype: int64"
      ]
     },
     "execution_count": 16,
     "metadata": {},
     "output_type": "execute_result"
    }
   ],
   "source": [
    "from sklearn.preprocessing import LabelEncoder\n",
    "le = LabelEncoder()\n",
    "df['Rank'] = le.fit_transform(df['Rank'])\n",
    "df['Rank'].value_counts()"
   ]
  },
  {
   "cell_type": "markdown",
   "id": "fe44cf4f",
   "metadata": {},
   "source": [
    "We see there are three columns which has object values. In that we change 'Rank' into integer value because it affect salary."
   ]
  },
  {
   "cell_type": "code",
   "execution_count": 17,
   "id": "ac098e13",
   "metadata": {},
   "outputs": [
    {
     "data": {
      "text/html": [
       "<div>\n",
       "<style scoped>\n",
       "    .dataframe tbody tr th:only-of-type {\n",
       "        vertical-align: middle;\n",
       "    }\n",
       "\n",
       "    .dataframe tbody tr th {\n",
       "        vertical-align: top;\n",
       "    }\n",
       "\n",
       "    .dataframe thead th {\n",
       "        text-align: right;\n",
       "    }\n",
       "</style>\n",
       "<table border=\"1\" class=\"dataframe\">\n",
       "  <thead>\n",
       "    <tr style=\"text-align: right;\">\n",
       "      <th></th>\n",
       "      <th>Rank</th>\n",
       "      <th>Discipline</th>\n",
       "      <th>Year_Since_PHD</th>\n",
       "      <th>Year_Service</th>\n",
       "      <th>Sex</th>\n",
       "      <th>Salary</th>\n",
       "    </tr>\n",
       "  </thead>\n",
       "  <tbody>\n",
       "    <tr>\n",
       "      <th>0</th>\n",
       "      <td>2</td>\n",
       "      <td>B</td>\n",
       "      <td>19</td>\n",
       "      <td>18</td>\n",
       "      <td>Male</td>\n",
       "      <td>139750</td>\n",
       "    </tr>\n",
       "    <tr>\n",
       "      <th>1</th>\n",
       "      <td>2</td>\n",
       "      <td>B</td>\n",
       "      <td>20</td>\n",
       "      <td>16</td>\n",
       "      <td>Male</td>\n",
       "      <td>173200</td>\n",
       "    </tr>\n",
       "    <tr>\n",
       "      <th>2</th>\n",
       "      <td>1</td>\n",
       "      <td>B</td>\n",
       "      <td>4</td>\n",
       "      <td>3</td>\n",
       "      <td>Male</td>\n",
       "      <td>79750</td>\n",
       "    </tr>\n",
       "    <tr>\n",
       "      <th>3</th>\n",
       "      <td>2</td>\n",
       "      <td>B</td>\n",
       "      <td>45</td>\n",
       "      <td>39</td>\n",
       "      <td>Male</td>\n",
       "      <td>115000</td>\n",
       "    </tr>\n",
       "    <tr>\n",
       "      <th>4</th>\n",
       "      <td>2</td>\n",
       "      <td>B</td>\n",
       "      <td>40</td>\n",
       "      <td>41</td>\n",
       "      <td>Male</td>\n",
       "      <td>141500</td>\n",
       "    </tr>\n",
       "  </tbody>\n",
       "</table>\n",
       "</div>"
      ],
      "text/plain": [
       "   Rank Discipline  Year_Since_PHD  Year_Service   Sex  Salary\n",
       "0     2          B              19            18  Male  139750\n",
       "1     2          B              20            16  Male  173200\n",
       "2     1          B               4             3  Male   79750\n",
       "3     2          B              45            39  Male  115000\n",
       "4     2          B              40            41  Male  141500"
      ]
     },
     "execution_count": 17,
     "metadata": {},
     "output_type": "execute_result"
    }
   ],
   "source": [
    "df.head()"
   ]
  },
  {
   "cell_type": "markdown",
   "id": "23a8355e",
   "metadata": {},
   "source": [
    "Now we see changed column."
   ]
  },
  {
   "cell_type": "markdown",
   "id": "10448518",
   "metadata": {},
   "source": [
    "# Data cleaning process:"
   ]
  },
  {
   "cell_type": "code",
   "execution_count": 18,
   "id": "18fba808",
   "metadata": {},
   "outputs": [
    {
     "data": {
      "text/html": [
       "<div>\n",
       "<style scoped>\n",
       "    .dataframe tbody tr th:only-of-type {\n",
       "        vertical-align: middle;\n",
       "    }\n",
       "\n",
       "    .dataframe tbody tr th {\n",
       "        vertical-align: top;\n",
       "    }\n",
       "\n",
       "    .dataframe thead th {\n",
       "        text-align: right;\n",
       "    }\n",
       "</style>\n",
       "<table border=\"1\" class=\"dataframe\">\n",
       "  <thead>\n",
       "    <tr style=\"text-align: right;\">\n",
       "      <th></th>\n",
       "      <th>Rank</th>\n",
       "      <th>Year_Since_PHD</th>\n",
       "      <th>Year_Service</th>\n",
       "      <th>Salary</th>\n",
       "    </tr>\n",
       "  </thead>\n",
       "  <tbody>\n",
       "    <tr>\n",
       "      <th>0</th>\n",
       "      <td>2</td>\n",
       "      <td>19</td>\n",
       "      <td>18</td>\n",
       "      <td>139750</td>\n",
       "    </tr>\n",
       "    <tr>\n",
       "      <th>1</th>\n",
       "      <td>2</td>\n",
       "      <td>20</td>\n",
       "      <td>16</td>\n",
       "      <td>173200</td>\n",
       "    </tr>\n",
       "    <tr>\n",
       "      <th>2</th>\n",
       "      <td>1</td>\n",
       "      <td>4</td>\n",
       "      <td>3</td>\n",
       "      <td>79750</td>\n",
       "    </tr>\n",
       "    <tr>\n",
       "      <th>3</th>\n",
       "      <td>2</td>\n",
       "      <td>45</td>\n",
       "      <td>39</td>\n",
       "      <td>115000</td>\n",
       "    </tr>\n",
       "    <tr>\n",
       "      <th>4</th>\n",
       "      <td>2</td>\n",
       "      <td>40</td>\n",
       "      <td>41</td>\n",
       "      <td>141500</td>\n",
       "    </tr>\n",
       "  </tbody>\n",
       "</table>\n",
       "</div>"
      ],
      "text/plain": [
       "   Rank  Year_Since_PHD  Year_Service  Salary\n",
       "0     2              19            18  139750\n",
       "1     2              20            16  173200\n",
       "2     1               4             3   79750\n",
       "3     2              45            39  115000\n",
       "4     2              40            41  141500"
      ]
     },
     "execution_count": 18,
     "metadata": {},
     "output_type": "execute_result"
    }
   ],
   "source": [
    "df.drop(['Discipline', 'Sex'], axis = 1, inplace = True)\n",
    "df.head()"
   ]
  },
  {
   "cell_type": "markdown",
   "id": "749e93d3",
   "metadata": {},
   "source": [
    "Here we drop unnecessary data from data."
   ]
  },
  {
   "cell_type": "code",
   "execution_count": 19,
   "id": "cd4a99fa",
   "metadata": {},
   "outputs": [
    {
     "data": {
      "text/plain": [
       "Rank             -1.151164\n",
       "Year_Since_PHD    0.300880\n",
       "Year_Service      0.650569\n",
       "Salary            0.714568\n",
       "dtype: float64"
      ]
     },
     "execution_count": 19,
     "metadata": {},
     "output_type": "execute_result"
    }
   ],
   "source": [
    "df.skew()"
   ]
  },
  {
   "cell_type": "markdown",
   "id": "2861f833",
   "metadata": {},
   "source": [
    "There is no skewness present in data."
   ]
  },
  {
   "cell_type": "markdown",
   "id": "f7535638",
   "metadata": {},
   "source": [
    "# Finding outliers"
   ]
  },
  {
   "cell_type": "code",
   "execution_count": 20,
   "id": "d32d50d4",
   "metadata": {},
   "outputs": [
    {
     "data": {
      "text/plain": [
       "(397, 4)"
      ]
     },
     "execution_count": 20,
     "metadata": {},
     "output_type": "execute_result"
    }
   ],
   "source": [
    "from scipy.stats import zscore\n",
    "import numpy as np\n",
    "z = np.abs(zscore(df))\n",
    "z.shape"
   ]
  },
  {
   "cell_type": "markdown",
   "id": "982266e4",
   "metadata": {},
   "source": [
    "Calculating zscore."
   ]
  },
  {
   "cell_type": "code",
   "execution_count": 21,
   "id": "f300ac83",
   "metadata": {},
   "outputs": [
    {
     "name": "stdout",
     "output_type": "stream",
     "text": [
      "(array([ 43, 131, 330, 364], dtype=int64), array([3, 2, 2, 3], dtype=int64))\n"
     ]
    }
   ],
   "source": [
    "threshold = 3\n",
    "print(np.where(z>3))"
   ]
  },
  {
   "cell_type": "code",
   "execution_count": 22,
   "id": "ffce3846",
   "metadata": {},
   "outputs": [
    {
     "data": {
      "text/plain": [
       "4"
      ]
     },
     "execution_count": 22,
     "metadata": {},
     "output_type": "execute_result"
    }
   ],
   "source": [
    "len(np.where(z>3)[0])"
   ]
  },
  {
   "cell_type": "code",
   "execution_count": 23,
   "id": "7c084d5e",
   "metadata": {},
   "outputs": [
    {
     "name": "stdout",
     "output_type": "stream",
     "text": [
      "Old DataFrame (397, 4)\n",
      "New DataFrame (393, 4)\n",
      "Total_dropped_rows 4\n"
     ]
    }
   ],
   "source": [
    "df_new = df[(z<3).all(axis = 1)]\n",
    "print('Old DataFrame', df.shape)\n",
    "print('New DataFrame', df_new.shape)\n",
    "print('Total_dropped_rows', df.shape[0] - df_new.shape[0])"
   ]
  },
  {
   "cell_type": "markdown",
   "id": "d1f51e97",
   "metadata": {},
   "source": [
    "Finding 4 values are outliers which has been removed. "
   ]
  },
  {
   "cell_type": "code",
   "execution_count": 24,
   "id": "0b8e6b42",
   "metadata": {},
   "outputs": [
    {
     "name": "stdout",
     "output_type": "stream",
     "text": [
      "1.0075566750629723 %\n"
     ]
    }
   ],
   "source": [
    "loss_percent = (397-393)/397*100\n",
    "print(loss_percent, '%')"
   ]
  },
  {
   "cell_type": "markdown",
   "id": "a520c671",
   "metadata": {},
   "source": [
    "We see very less affect of deleting outliers."
   ]
  },
  {
   "cell_type": "code",
   "execution_count": 25,
   "id": "63124d43",
   "metadata": {},
   "outputs": [
    {
     "data": {
      "text/html": [
       "<div>\n",
       "<style scoped>\n",
       "    .dataframe tbody tr th:only-of-type {\n",
       "        vertical-align: middle;\n",
       "    }\n",
       "\n",
       "    .dataframe tbody tr th {\n",
       "        vertical-align: top;\n",
       "    }\n",
       "\n",
       "    .dataframe thead th {\n",
       "        text-align: right;\n",
       "    }\n",
       "</style>\n",
       "<table border=\"1\" class=\"dataframe\">\n",
       "  <thead>\n",
       "    <tr style=\"text-align: right;\">\n",
       "      <th></th>\n",
       "      <th>Rank</th>\n",
       "      <th>Year_Since_PHD</th>\n",
       "      <th>Year_Service</th>\n",
       "      <th>Salary</th>\n",
       "    </tr>\n",
       "  </thead>\n",
       "  <tbody>\n",
       "    <tr>\n",
       "      <th>0</th>\n",
       "      <td>2</td>\n",
       "      <td>19</td>\n",
       "      <td>18</td>\n",
       "      <td>139750</td>\n",
       "    </tr>\n",
       "    <tr>\n",
       "      <th>1</th>\n",
       "      <td>2</td>\n",
       "      <td>20</td>\n",
       "      <td>16</td>\n",
       "      <td>173200</td>\n",
       "    </tr>\n",
       "    <tr>\n",
       "      <th>2</th>\n",
       "      <td>1</td>\n",
       "      <td>4</td>\n",
       "      <td>3</td>\n",
       "      <td>79750</td>\n",
       "    </tr>\n",
       "    <tr>\n",
       "      <th>3</th>\n",
       "      <td>2</td>\n",
       "      <td>45</td>\n",
       "      <td>39</td>\n",
       "      <td>115000</td>\n",
       "    </tr>\n",
       "    <tr>\n",
       "      <th>4</th>\n",
       "      <td>2</td>\n",
       "      <td>40</td>\n",
       "      <td>41</td>\n",
       "      <td>141500</td>\n",
       "    </tr>\n",
       "    <tr>\n",
       "      <th>...</th>\n",
       "      <td>...</td>\n",
       "      <td>...</td>\n",
       "      <td>...</td>\n",
       "      <td>...</td>\n",
       "    </tr>\n",
       "    <tr>\n",
       "      <th>392</th>\n",
       "      <td>2</td>\n",
       "      <td>33</td>\n",
       "      <td>30</td>\n",
       "      <td>103106</td>\n",
       "    </tr>\n",
       "    <tr>\n",
       "      <th>393</th>\n",
       "      <td>2</td>\n",
       "      <td>31</td>\n",
       "      <td>19</td>\n",
       "      <td>150564</td>\n",
       "    </tr>\n",
       "    <tr>\n",
       "      <th>394</th>\n",
       "      <td>2</td>\n",
       "      <td>42</td>\n",
       "      <td>25</td>\n",
       "      <td>101738</td>\n",
       "    </tr>\n",
       "    <tr>\n",
       "      <th>395</th>\n",
       "      <td>2</td>\n",
       "      <td>25</td>\n",
       "      <td>15</td>\n",
       "      <td>95329</td>\n",
       "    </tr>\n",
       "    <tr>\n",
       "      <th>396</th>\n",
       "      <td>1</td>\n",
       "      <td>8</td>\n",
       "      <td>4</td>\n",
       "      <td>81035</td>\n",
       "    </tr>\n",
       "  </tbody>\n",
       "</table>\n",
       "<p>393 rows × 4 columns</p>\n",
       "</div>"
      ],
      "text/plain": [
       "     Rank  Year_Since_PHD  Year_Service  Salary\n",
       "0       2              19            18  139750\n",
       "1       2              20            16  173200\n",
       "2       1               4             3   79750\n",
       "3       2              45            39  115000\n",
       "4       2              40            41  141500\n",
       "..    ...             ...           ...     ...\n",
       "392     2              33            30  103106\n",
       "393     2              31            19  150564\n",
       "394     2              42            25  101738\n",
       "395     2              25            15   95329\n",
       "396     1               8             4   81035\n",
       "\n",
       "[393 rows x 4 columns]"
      ]
     },
     "execution_count": 25,
     "metadata": {},
     "output_type": "execute_result"
    }
   ],
   "source": [
    "df_new"
   ]
  },
  {
   "cell_type": "markdown",
   "id": "e0572d4b",
   "metadata": {},
   "source": [
    "We see data without outliers and unnecessary features. "
   ]
  },
  {
   "cell_type": "code",
   "execution_count": 26,
   "id": "822740c1",
   "metadata": {},
   "outputs": [],
   "source": [
    "x = df_new.iloc[:,:-1]\n",
    "y = df_new.iloc[:,-1]"
   ]
  },
  {
   "cell_type": "markdown",
   "id": "b30e5721",
   "metadata": {},
   "source": [
    "Spliting data into target and independent variable."
   ]
  },
  {
   "cell_type": "code",
   "execution_count": 27,
   "id": "c8e9c8ba",
   "metadata": {},
   "outputs": [],
   "source": [
    "x_train, x_test, y_train, y_test = train_test_split(x, y, test_size = .22, random_state = 43)"
   ]
  },
  {
   "cell_type": "code",
   "execution_count": 30,
   "id": "4d403b2a",
   "metadata": {},
   "outputs": [
    {
     "data": {
      "text/plain": [
       "(306, 3)"
      ]
     },
     "execution_count": 30,
     "metadata": {},
     "output_type": "execute_result"
    }
   ],
   "source": [
    "x_train.shape"
   ]
  },
  {
   "cell_type": "code",
   "execution_count": 33,
   "id": "8560c384",
   "metadata": {},
   "outputs": [
    {
     "data": {
      "text/plain": [
       "(306,)"
      ]
     },
     "execution_count": 33,
     "metadata": {},
     "output_type": "execute_result"
    }
   ],
   "source": [
    "y_train.shape"
   ]
  },
  {
   "cell_type": "code",
   "execution_count": 34,
   "id": "215c283e",
   "metadata": {},
   "outputs": [
    {
     "data": {
      "text/plain": [
       "(87,)"
      ]
     },
     "execution_count": 34,
     "metadata": {},
     "output_type": "execute_result"
    }
   ],
   "source": [
    "y_test.shape"
   ]
  },
  {
   "cell_type": "code",
   "execution_count": 35,
   "id": "865ecb32",
   "metadata": {},
   "outputs": [
    {
     "data": {
      "text/plain": [
       "(87, 3)"
      ]
     },
     "execution_count": 35,
     "metadata": {},
     "output_type": "execute_result"
    }
   ],
   "source": [
    "x_test.shape"
   ]
  },
  {
   "cell_type": "code",
   "execution_count": 36,
   "id": "4878cb40",
   "metadata": {},
   "outputs": [
    {
     "name": "stdout",
     "output_type": "stream",
     "text": [
      "0.011494252873563218\n",
      "[[0 0 0 ... 0 0 0]\n",
      " [0 0 0 ... 0 0 0]\n",
      " [0 0 0 ... 0 0 0]\n",
      " ...\n",
      " [0 0 0 ... 0 0 0]\n",
      " [0 0 0 ... 1 0 0]\n",
      " [0 0 0 ... 1 0 0]]\n",
      "              precision    recall  f1-score   support\n",
      "\n",
      "       63900       0.00      0.00      0.00         1\n",
      "       71065       0.00      0.00      0.00         1\n",
      "       72500       0.00      0.00      0.00         2\n",
      "       73877       0.00      0.00      0.00         1\n",
      "       74000       0.00      0.00      0.00         0\n",
      "       77000       0.00      0.00      0.00         0\n",
      "       77500       0.00      0.00      0.00         2\n",
      "       77700       0.00      0.00      0.00         1\n",
      "       78785       0.00      0.00      0.00         1\n",
      "       80139       0.00      0.00      0.00         1\n",
      "       81035       0.00      0.00      0.00         1\n",
      "       81285       0.00      0.00      0.00         1\n",
      "       81500       0.00      0.00      0.00         1\n",
      "       82379       0.00      0.00      0.00         1\n",
      "       84500       0.00      0.00      0.00         1\n",
      "       86895       0.00      0.00      0.00         1\n",
      "       88175       0.00      0.00      0.00         1\n",
      "       88600       0.00      0.00      0.00         0\n",
      "       88709       0.00      0.00      0.00         1\n",
      "       88825       0.00      0.00      0.00         1\n",
      "       89565       0.00      0.00      0.00         1\n",
      "       89650       0.00      0.00      0.00         1\n",
      "       90304       0.00      0.00      0.00         1\n",
      "       91000       0.00      0.00      0.00         1\n",
      "       91100       0.00      0.00      0.00         1\n",
      "       92000       0.08      1.00      0.15         1\n",
      "       92550       0.00      0.00      0.00         1\n",
      "       93164       0.00      0.00      0.00         1\n",
      "       94350       0.00      0.00      0.00         1\n",
      "       95079       0.00      0.00      0.00         1\n",
      "       95642       0.00      0.00      0.00         1\n",
      "       96200       0.00      0.00      0.00         1\n",
      "       96545       0.00      0.00      0.00         1\n",
      "       97262       0.00      0.00      0.00         1\n",
      "      100102       0.00      0.00      0.00         1\n",
      "      100522       0.00      0.00      0.00         1\n",
      "      101000       0.00      0.00      0.00         0\n",
      "      102000       0.00      0.00      0.00         1\n",
      "      103450       0.00      0.00      0.00         1\n",
      "      103613       0.00      0.00      0.00         1\n",
      "      104350       0.00      0.00      0.00         1\n",
      "      104428       0.00      0.00      0.00         1\n",
      "      105000       0.00      0.00      0.00         0\n",
      "      105890       0.00      0.00      0.00         1\n",
      "      106608       0.00      0.00      0.00         1\n",
      "      107309       0.00      0.00      0.00         1\n",
      "      108413       0.00      0.00      0.00         0\n",
      "      109000       0.00      0.00      0.00         1\n",
      "      109305       0.00      0.00      0.00         1\n",
      "      109707       0.00      0.00      0.00         1\n",
      "      111350       0.00      0.00      0.00         0\n",
      "      111512       0.00      0.00      0.00         1\n",
      "      112696       0.00      0.00      0.00         1\n",
      "      113600       0.00      0.00      0.00         1\n",
      "      114778       0.00      0.00      0.00         1\n",
      "      115000       0.00      0.00      0.00         1\n",
      "      115313       0.00      0.00      0.00         1\n",
      "      116450       0.00      0.00      0.00         0\n",
      "      117150       0.00      0.00      0.00         1\n",
      "      117704       0.00      0.00      0.00         1\n",
      "      118223       0.00      0.00      0.00         1\n",
      "      119015       0.00      0.00      0.00         1\n",
      "      120000       0.00      0.00      0.00         1\n",
      "      121946       0.00      0.00      0.00         1\n",
      "      122100       0.00      0.00      0.00         1\n",
      "      122875       0.00      0.00      0.00         1\n",
      "      125196       0.00      0.00      0.00         1\n",
      "      126200       0.00      0.00      0.00         1\n",
      "      126320       0.00      0.00      0.00         1\n",
      "      127512       0.00      0.00      0.00         1\n",
      "      128250       0.00      0.00      0.00         1\n",
      "      128400       0.00      0.00      0.00         1\n",
      "      129600       0.00      0.00      0.00         1\n",
      "      130664       0.00      0.00      0.00         1\n",
      "      131950       0.00      0.00      0.00         1\n",
      "      132261       0.00      0.00      0.00         1\n",
      "      134000       0.00      0.00      0.00         1\n",
      "      134800       0.00      0.00      0.00         1\n",
      "      134885       0.00      0.00      0.00         1\n",
      "      139750       0.00      0.00      0.00         1\n",
      "      145000       0.00      0.00      0.00         1\n",
      "      145200       0.00      0.00      0.00         1\n",
      "      146800       0.00      0.00      0.00         1\n",
      "      147349       0.00      0.00      0.00         1\n",
      "      150376       0.00      0.00      0.00         1\n",
      "      150480       0.00      0.00      0.00         0\n",
      "      150500       0.00      0.00      0.00         1\n",
      "      155500       0.00      0.00      0.00         1\n",
      "      155750       0.00      0.00      0.00         1\n",
      "      161101       0.00      0.00      0.00         1\n",
      "      170500       0.00      0.00      0.00         1\n",
      "      172505       0.00      0.00      0.00         1\n",
      "      174500       0.00      0.00      0.00         0\n",
      "      183800       0.00      0.00      0.00         1\n",
      "      204000       0.00      0.00      0.00         1\n",
      "\n",
      "    accuracy                           0.01        87\n",
      "   macro avg       0.00      0.01      0.00        87\n",
      "weighted avg       0.00      0.01      0.00        87\n",
      "\n"
     ]
    }
   ],
   "source": [
    "mnb = MultinomialNB()\n",
    "mnb.fit(x_train, y_train)\n",
    "predmnb = mnb.predict(x_test)\n",
    "print(accuracy_score(y_test, predmnb))\n",
    "print(confusion_matrix(y_test, predmnb))\n",
    "print(classification_report(y_test, predmnb))"
   ]
  },
  {
   "cell_type": "code",
   "execution_count": 29,
   "id": "748a82ed",
   "metadata": {},
   "outputs": [
    {
     "name": "stdout",
     "output_type": "stream",
     "text": [
      "0.011494252873563218\n",
      "[[0 0 0 ... 0 0 0]\n",
      " [0 0 0 ... 0 0 0]\n",
      " [0 0 0 ... 0 0 0]\n",
      " ...\n",
      " [0 0 0 ... 0 0 0]\n",
      " [0 0 0 ... 0 0 0]\n",
      " [0 0 0 ... 0 0 0]]\n",
      "              precision    recall  f1-score   support\n",
      "\n",
      "       63900       0.00      0.00      0.00         1\n",
      "       71065       0.00      0.00      0.00         1\n",
      "       72500       0.00      0.00      0.00         2\n",
      "       73877       0.00      0.00      0.00         1\n",
      "       74000       0.00      0.00      0.00         0\n",
      "       77500       0.00      0.00      0.00         2\n",
      "       77700       0.00      0.00      0.00         1\n",
      "       78785       0.00      0.00      0.00         1\n",
      "       80139       0.00      0.00      0.00         1\n",
      "       81035       0.00      0.00      0.00         1\n",
      "       81285       0.00      0.00      0.00         1\n",
      "       81500       0.00      0.00      0.00         1\n",
      "       82379       0.00      0.00      0.00         1\n",
      "       84500       0.00      0.00      0.00         1\n",
      "       86895       0.00      0.00      0.00         1\n",
      "       88175       0.00      0.00      0.00         1\n",
      "       88600       0.00      0.00      0.00         0\n",
      "       88709       0.00      0.00      0.00         1\n",
      "       88825       0.00      0.00      0.00         1\n",
      "       89565       0.00      0.00      0.00         1\n",
      "       89650       0.00      0.00      0.00         1\n",
      "       90304       0.00      0.00      0.00         1\n",
      "       91000       0.00      0.00      0.00         1\n",
      "       91100       0.00      0.00      0.00         1\n",
      "       92000       0.04      1.00      0.07         1\n",
      "       92550       0.00      0.00      0.00         1\n",
      "       93164       0.00      0.00      0.00         1\n",
      "       94350       0.00      0.00      0.00         1\n",
      "       95079       0.00      0.00      0.00         1\n",
      "       95642       0.00      0.00      0.00         1\n",
      "       96200       0.00      0.00      0.00         1\n",
      "       96545       0.00      0.00      0.00         1\n",
      "       97262       0.00      0.00      0.00         1\n",
      "      100102       0.00      0.00      0.00         1\n",
      "      100522       0.00      0.00      0.00         1\n",
      "      101000       0.00      0.00      0.00         0\n",
      "      102000       0.00      0.00      0.00         1\n",
      "      103450       0.00      0.00      0.00         1\n",
      "      103613       0.00      0.00      0.00         1\n",
      "      104350       0.00      0.00      0.00         1\n",
      "      104428       0.00      0.00      0.00         1\n",
      "      105890       0.00      0.00      0.00         1\n",
      "      106608       0.00      0.00      0.00         1\n",
      "      107309       0.00      0.00      0.00         1\n",
      "      109000       0.00      0.00      0.00         1\n",
      "      109305       0.00      0.00      0.00         1\n",
      "      109707       0.00      0.00      0.00         1\n",
      "      111350       0.00      0.00      0.00         0\n",
      "      111512       0.00      0.00      0.00         1\n",
      "      112696       0.00      0.00      0.00         1\n",
      "      113600       0.00      0.00      0.00         1\n",
      "      114778       0.00      0.00      0.00         1\n",
      "      115000       0.00      0.00      0.00         1\n",
      "      115313       0.00      0.00      0.00         1\n",
      "      117150       0.00      0.00      0.00         1\n",
      "      117704       0.00      0.00      0.00         1\n",
      "      118223       0.00      0.00      0.00         1\n",
      "      119015       0.00      0.00      0.00         1\n",
      "      120000       0.00      0.00      0.00         1\n",
      "      121946       0.00      0.00      0.00         1\n",
      "      122100       0.00      0.00      0.00         1\n",
      "      122875       0.00      0.00      0.00         1\n",
      "      125196       0.00      0.00      0.00         1\n",
      "      126200       0.00      0.00      0.00         1\n",
      "      126320       0.00      0.00      0.00         1\n",
      "      127512       0.00      0.00      0.00         1\n",
      "      128250       0.00      0.00      0.00         1\n",
      "      128400       0.00      0.00      0.00         1\n",
      "      129600       0.00      0.00      0.00         1\n",
      "      130664       0.00      0.00      0.00         1\n",
      "      131950       0.00      0.00      0.00         1\n",
      "      132261       0.00      0.00      0.00         1\n",
      "      134000       0.00      0.00      0.00         1\n",
      "      134800       0.00      0.00      0.00         1\n",
      "      134885       0.00      0.00      0.00         1\n",
      "      139750       0.00      0.00      0.00         1\n",
      "      145000       0.00      0.00      0.00         1\n",
      "      145200       0.00      0.00      0.00         1\n",
      "      146800       0.00      0.00      0.00         1\n",
      "      147349       0.00      0.00      0.00         1\n",
      "      150376       0.00      0.00      0.00         1\n",
      "      150500       0.00      0.00      0.00         1\n",
      "      155500       0.00      0.00      0.00         1\n",
      "      155750       0.00      0.00      0.00         1\n",
      "      161101       0.00      0.00      0.00         1\n",
      "      170500       0.00      0.00      0.00         1\n",
      "      172505       0.00      0.00      0.00         1\n",
      "      183800       0.00      0.00      0.00         1\n",
      "      204000       0.00      0.00      0.00         1\n",
      "\n",
      "    accuracy                           0.01        87\n",
      "   macro avg       0.00      0.01      0.00        87\n",
      "weighted avg       0.00      0.01      0.00        87\n",
      "\n"
     ]
    }
   ],
   "source": [
    "svc = SVC(kernel ='rbf')\n",
    "svc.fit(x_train, y_train)\n",
    "svc.score(x_train, y_train)\n",
    "predsvc = svc.predict(x_test)\n",
    "print(accuracy_score(y_test, predsvc))\n",
    "print(confusion_matrix(y_test, predsvc))\n",
    "print(classification_report(y_test, predsvc))"
   ]
  },
  {
   "cell_type": "code",
   "execution_count": null,
   "id": "f0318892",
   "metadata": {},
   "outputs": [],
   "source": []
  }
 ],
 "metadata": {
  "kernelspec": {
   "display_name": "Python 3",
   "language": "python",
   "name": "python3"
  },
  "language_info": {
   "codemirror_mode": {
    "name": "ipython",
    "version": 3
   },
   "file_extension": ".py",
   "mimetype": "text/x-python",
   "name": "python",
   "nbconvert_exporter": "python",
   "pygments_lexer": "ipython3",
   "version": "3.8.8"
  }
 },
 "nbformat": 4,
 "nbformat_minor": 5
}
